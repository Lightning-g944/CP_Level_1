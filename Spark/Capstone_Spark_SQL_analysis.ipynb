{
 "cells": [
  {
   "cell_type": "code",
   "execution_count": 1,
   "metadata": {},
   "outputs": [],
   "source": [
    "from pyspark.sql import SparkSession\n",
    "Spark = (SparkSession.builder.appName(\"capstone\")\\\n",
    "        .config(\"hive.metastore.uris\",\"thrift://ip-10-1-2-24.ap-south-1.compute.internal:9083\")\\\n",
    "        .enableHiveSupport().getOrCreate())"
   ]
  },
  {
   "cell_type": "code",
   "execution_count": 5,
   "metadata": {},
   "outputs": [],
   "source": [
    "departments = Spark.sql(\"select * from capstone_hadoop_rk.departments\")"
   ]
  },
  {
   "cell_type": "code",
   "execution_count": 191,
   "metadata": {},
   "outputs": [],
   "source": [
    "departments.createOrReplaceTempView('departments')"
   ]
  },
  {
   "cell_type": "code",
   "execution_count": 7,
   "metadata": {},
   "outputs": [],
   "source": [
    "titles = Spark.sql(\"select * from capstone_hadoop_rk.titles\")"
   ]
  },
  {
   "cell_type": "code",
   "execution_count": 192,
   "metadata": {},
   "outputs": [],
   "source": [
    "titles.createOrReplaceTempView('titles')"
   ]
  },
  {
   "cell_type": "code",
   "execution_count": 8,
   "metadata": {},
   "outputs": [],
   "source": [
    "salaries = Spark.sql(\"select * from capstone_hadoop_rk.salaries\")"
   ]
  },
  {
   "cell_type": "code",
   "execution_count": 193,
   "metadata": {},
   "outputs": [],
   "source": [
    "salaries.createOrReplaceTempView('salaries')"
   ]
  },
  {
   "cell_type": "code",
   "execution_count": 9,
   "metadata": {},
   "outputs": [],
   "source": [
    "department_managers = Spark.sql(\"select * from capstone_hadoop_rk.department_managers\")"
   ]
  },
  {
   "cell_type": "code",
   "execution_count": 194,
   "metadata": {},
   "outputs": [],
   "source": [
    "department_managers.createOrReplaceTempView('department_managers')"
   ]
  },
  {
   "cell_type": "code",
   "execution_count": 200,
   "metadata": {},
   "outputs": [],
   "source": [
    "department_employees = Spark.sql(\"select * from capstone_hadoop_rk.department_employees\")"
   ]
  },
  {
   "cell_type": "code",
   "execution_count": 201,
   "metadata": {},
   "outputs": [],
   "source": [
    "department_employees.createOrReplaceTempView('department_employees')"
   ]
  },
  {
   "cell_type": "code",
   "execution_count": 197,
   "metadata": {},
   "outputs": [],
   "source": [
    "employees = Spark.sql(\"select * from capstone_hadoop_rk.employees\")"
   ]
  },
  {
   "cell_type": "code",
   "execution_count": 198,
   "metadata": {},
   "outputs": [],
   "source": [
    "employees.createOrReplaceTempView('employees')"
   ]
  },
  {
   "cell_type": "markdown",
   "metadata": {},
   "source": [
    "# Analysis"
   ]
  },
  {
   "cell_type": "markdown",
   "metadata": {},
   "source": [
    "## 1. A List showing employee number, last_name, first name, sex and salary for each employee."
   ]
  },
  {
   "cell_type": "code",
   "execution_count": 18,
   "metadata": {},
   "outputs": [
    {
     "name": "stdout",
     "output_type": "stream",
     "text": [
      "+------+-----------+---+------+\n",
      "|emp_no|  last_name|sex|salary|\n",
      "+------+-----------+---+------+\n",
      "| 10001|    Facello|  M| 60117|\n",
      "| 10002|     Simmel|  F| 65828|\n",
      "| 10003|    Bamford|  M| 40006|\n",
      "| 10004|    Koblick|  M| 40054|\n",
      "| 10005|   Maliniak|  M| 78228|\n",
      "| 10006|    Preusig|  F| 40000|\n",
      "| 10007|  Zielinski|  F| 56724|\n",
      "| 10008|   Kalloufi|  M| 46671|\n",
      "| 10009|       Peac|  F| 60929|\n",
      "| 10010|   Piveteau|  F| 72488|\n",
      "| 10011|      Sluis|  F| 42365|\n",
      "| 10012|  Bridgland|  M| 40000|\n",
      "| 10013|     Terkki|  M| 40000|\n",
      "| 10014|      Genin|  M| 46168|\n",
      "| 10015|  Nooteboom|  M| 40000|\n",
      "| 10016|Cappelletti|  M| 70889|\n",
      "| 10017|  Bouloucos|  F| 71380|\n",
      "| 10018|       Peha|  F| 55881|\n",
      "| 10019|    Haddadi|  M| 44276|\n",
      "| 10020|    Warwick|  M| 40000|\n",
      "+------+-----------+---+------+\n",
      "only showing top 20 rows\n",
      "\n"
     ]
    }
   ],
   "source": [
    "Spark.sql(\"SELECT e.emp_no, e.last_name, e.sex, s.salary\\\n",
    "            FROM capstone_hadoop_rk.employees e \\\n",
    "            INNER JOIN\\\n",
    "            capstone_hadoop_rk.salaries s on s.emp_no = e.emp_no\").show()"
   ]
  },
  {
   "cell_type": "markdown",
   "metadata": {},
   "source": [
    "## 2. A list showing first name, last_name and hire date for employees who were hired in 1986."
   ]
  },
  {
   "cell_type": "code",
   "execution_count": 22,
   "metadata": {},
   "outputs": [
    {
     "name": "stdout",
     "output_type": "stream",
     "text": [
      "+----------+------------+----------+\n",
      "|first_name|   last_name| hire_date|\n",
      "+----------+------------+----------+\n",
      "|    Georgi|     Facello| 6/26/1986|\n",
      "|     Parto|     Bamford| 8/28/1986|\n",
      "| Chirstian|     Koblick| 12/1/1986|\n",
      "|    Sanjiv|    Zschoche|  2/4/1986|\n",
      "|      Kwee|    Schusler| 2/26/1986|\n",
      "|   Kshitij|        Gils| 3/27/1986|\n",
      "|  Zhongwei|       Rosen|10/30/1986|\n",
      "|   Xinglin|     Eugenio|  9/8/1986|\n",
      "| Sudharsan|Flasterstein| 8/12/1986|\n",
      "|    Kendra|     Hofting| 3/14/1986|\n",
      "|    Hilari|      Morton| 7/15/1986|\n",
      "|     Akemi|       Birch| 12/2/1986|\n",
      "|    Lunjin|      Giveon| 10/2/1986|\n",
      "|    Xuejia|      Ullian| 8/22/1986|\n",
      "|   Chikara|    Rissland| 1/23/1986|\n",
      "|  Domenick|    Peltason| 3/14/1986|\n",
      "|    Zissis|    Pintelas| 2/11/1986|\n",
      "|     Perry|   Shimshoni| 9/18/1986|\n",
      "|  Kazuhito| Encarnacion| 8/21/1986|\n",
      "|   Xiadong|       Perry| 11/5/1986|\n",
      "+----------+------------+----------+\n",
      "only showing top 20 rows\n",
      "\n"
     ]
    }
   ],
   "source": [
    "Spark.sql('select first_name, last_name, hire_date from capstone_hadoop_rk.employees where hire_date LIKE \"%1986\" ').show()"
   ]
  },
  {
   "cell_type": "markdown",
   "metadata": {},
   "source": [
    "## 3. A list showing the manager of each department with the following information: department number, department name, the manager's employee number, last name, first name."
   ]
  },
  {
   "cell_type": "code",
   "execution_count": 24,
   "metadata": {},
   "outputs": [
    {
     "name": "stdout",
     "output_type": "stream",
     "text": [
      "+-------+--------------------+------+------------+-----------+\n",
      "|dept_no|           dept_name|emp_no|   last_name| first_name|\n",
      "+-------+--------------------+------+------------+-----------+\n",
      "|   d001|         \"Marketing\"|110022|  Markovitch|  Margareta|\n",
      "|   d001|         \"Marketing\"|110039|    Minakawa|   Vishwani|\n",
      "|   d002|           \"Finance\"|110085|       Alpin|       Ebru|\n",
      "|   d002|           \"Finance\"|110114|  Legleitner|      Isamu|\n",
      "|   d003|   \"Human Resources\"|110183|Ossenbruggen|    Shirish|\n",
      "|   d003|   \"Human Resources\"|110228|     Sigstam|    Karsten|\n",
      "|   d004|        \"Production\"|110303|     Wegerle|  Krassimir|\n",
      "|   d004|        \"Production\"|110344|       Cools|     Rosine|\n",
      "|   d004|        \"Production\"|110386|      Kieras|       Shem|\n",
      "|   d004|        \"Production\"|110420|    Ghazalie|      Oscar|\n",
      "|   d005|       \"development\"|110511|    Hagimont|   DeForest|\n",
      "|   d005|       \"development\"|110567|    DasSarma|       Leon|\n",
      "|   d006|\"Quality Management\"|110725|     Onuegbe|  Peternela|\n",
      "|   d006|\"Quality Management\"|110765|     Hofmeyr|     Rutger|\n",
      "|   d006|\"Quality Management\"|110800|     Quadeer|     Sanjoy|\n",
      "|   d006|\"Quality Management\"|110854|       Pesch|       Dung|\n",
      "|   d007|             \"Sales\"|111035|   Kaelbling|Przemyslawa|\n",
      "|   d007|             \"Sales\"|111133|       Zhang|      Hauke|\n",
      "|   d008|          \"Research\"|111400|     Staelin|       Arie|\n",
      "|   d008|          \"Research\"|111534|      Kambil|     Hilary|\n",
      "+-------+--------------------+------+------------+-----------+\n",
      "only showing top 20 rows\n",
      "\n"
     ]
    }
   ],
   "source": [
    "Spark.sql('SELECT \\\n",
    "    d.dept_no, \\\n",
    "    d.dept_name, \\\n",
    "    dm.emp_no, \\\n",
    "    e.last_name, \\\n",
    "    e.first_name \\\n",
    "FROM capstone_hadoop_rk.departments d \\\n",
    "JOIN capstone_hadoop_rk.department_managers dm \\\n",
    "ON d.dept_no = dm.dept_no \\\n",
    "JOIN capstone_hadoop_rk.employees e \\\n",
    "ON dm.emp_no = e.emp_no').show()"
   ]
  },
  {
   "cell_type": "markdown",
   "metadata": {},
   "source": [
    "## 4. List the department of each employee with the following information:\temployee number, last name, first name, and department name."
   ]
  },
  {
   "cell_type": "code",
   "execution_count": 25,
   "metadata": {},
   "outputs": [
    {
     "name": "stdout",
     "output_type": "stream",
     "text": [
      "+------+-----------+----------+--------------------+\n",
      "|emp_no|  last_name|first_name|           dept_name|\n",
      "+------+-----------+----------+--------------------+\n",
      "| 10001|    Facello|    Georgi|       \"development\"|\n",
      "| 10002|     Simmel|   Bezalel|             \"Sales\"|\n",
      "| 10003|    Bamford|     Parto|        \"Production\"|\n",
      "| 10004|    Koblick| Chirstian|        \"Production\"|\n",
      "| 10005|   Maliniak|   Kyoichi|   \"Human Resources\"|\n",
      "| 10006|    Preusig|    Anneke|       \"development\"|\n",
      "| 10007|  Zielinski|   Tzvetan|          \"Research\"|\n",
      "| 10008|   Kalloufi|    Saniya|       \"development\"|\n",
      "| 10009|       Peac|    Sumant|\"Quality Management\"|\n",
      "| 10010|   Piveteau| Duangkaew|\"Quality Management\"|\n",
      "| 10010|   Piveteau| Duangkaew|        \"Production\"|\n",
      "| 10011|      Sluis|      Mary|  \"Customer Service\"|\n",
      "| 10012|  Bridgland|  Patricio|       \"development\"|\n",
      "| 10013|     Terkki| Eberhardt|   \"Human Resources\"|\n",
      "| 10014|      Genin|     Berni|       \"development\"|\n",
      "| 10015|  Nooteboom|  Guoxiang|          \"Research\"|\n",
      "| 10016|Cappelletti|  Kazuhito|             \"Sales\"|\n",
      "| 10017|  Bouloucos| Cristinel|         \"Marketing\"|\n",
      "| 10018|       Peha|  Kazuhide|       \"development\"|\n",
      "| 10018|       Peha|  Kazuhide|        \"Production\"|\n",
      "+------+-----------+----------+--------------------+\n",
      "only showing top 20 rows\n",
      "\n"
     ]
    }
   ],
   "source": [
    "Spark.sql('SELECT \\\n",
    "    de.emp_no, \\\n",
    "    e.last_name, \\\n",
    "    e.first_name, \\\n",
    "    d.dept_name \\\n",
    "FROM capstone_hadoop_rk.department_employees de \\\n",
    "JOIN capstone_hadoop_rk.employees e \\\n",
    "ON de.emp_no = e.emp_no \\\n",
    "JOIN capstone_hadoop_rk.departments d \\\n",
    "ON de.dept_no = d.dept_no').show()"
   ]
  },
  {
   "cell_type": "markdown",
   "metadata": {},
   "source": [
    "## 5. A list showing first name, last name, and sex of employees whose first name is 'Hercules'\tand last name begin with 'B'"
   ]
  },
  {
   "cell_type": "code",
   "execution_count": 28,
   "metadata": {},
   "outputs": [
    {
     "name": "stdout",
     "output_type": "stream",
     "text": [
      "+----------+-------------+---+\n",
      "|first_name|    last_name|sex|\n",
      "+----------+-------------+---+\n",
      "|  Hercules|   Benzmuller|  M|\n",
      "|  Hercules|      Brendel|  F|\n",
      "|  Hercules|   Baranowski|  M|\n",
      "|  Hercules|     Barreiro|  M|\n",
      "|  Hercules|         Baer|  M|\n",
      "|  Hercules|Bernardinello|  F|\n",
      "|  Hercules|      Basagni|  M|\n",
      "|  Hercules|        Biran|  F|\n",
      "|  Hercules|    Bernatsky|  M|\n",
      "|  Hercules|         Bail|  F|\n",
      "|  Hercules|        Birge|  F|\n",
      "|  Hercules|      Bisiani|  F|\n",
      "|  Hercules|       Bodoff|  M|\n",
      "|  Hercules|        Biron|  F|\n",
      "|  Hercules|      Buchter|  M|\n",
      "|  Hercules|         Bain|  F|\n",
      "|  Hercules|         Bahr|  M|\n",
      "|  Hercules|         Baak|  M|\n",
      "|  Hercules|     Benantar|  F|\n",
      "|  Hercules|      Berstel|  F|\n",
      "+----------+-------------+---+\n",
      "\n"
     ]
    }
   ],
   "source": [
    "Spark.sql('SELECT \\\n",
    "    first_name, \\\n",
    "    last_name, \\\n",
    "    sex \\\n",
    "FROM capstone_hadoop_rk.employees \\\n",
    "WHERE first_name = \"Hercules\"  \\\n",
    "AND last_name LIKE \"B%\" ').show()"
   ]
  },
  {
   "cell_type": "markdown",
   "metadata": {},
   "source": [
    "## 6. A list showing all employees in the Sales department, including their employee number, last name, first name, department name."
   ]
  },
  {
   "cell_type": "code",
   "execution_count": 30,
   "metadata": {},
   "outputs": [
    {
     "name": "stdout",
     "output_type": "stream",
     "text": [
      "+-------+------------+----------+---------+\n",
      "|dept_no|   last_name|first_name|dept_name|\n",
      "+-------+------------+----------+---------+\n",
      "|   d007|      Simmel|   Bezalel|  \"Sales\"|\n",
      "|   d007| Cappelletti|  Kazuhito|  \"Sales\"|\n",
      "|   d007|        Swan|     Bader|  \"Sales\"|\n",
      "|   d007|      Lenart|       Uri|  \"Sales\"|\n",
      "|   d007|      Dredge|   Yinghua|  \"Sales\"|\n",
      "|   d007|    Zschoche|    Sanjiv|  \"Sales\"|\n",
      "|   d007| Billingsley|  Breannda|  \"Sales\"|\n",
      "|   d007|      Herber|       Tse|  \"Sales\"|\n",
      "|   d007|     Brattka|  Charlene|  \"Sales\"|\n",
      "|   d007|     Eugenio|   Xinglin|  \"Sales\"|\n",
      "|   d007|    Syrzycki|  Jungsoon|  \"Sales\"|\n",
      "|   d007|Flasterstein| Sudharsan|  \"Sales\"|\n",
      "|   d007|     Desikan|   Sailaja|  \"Sales\"|\n",
      "|   d007|      Morton|    Hilari|  \"Sales\"|\n",
      "|   d007|     Sullins|    Valter|  \"Sales\"|\n",
      "|   d007|      Heyers|     Perla|  \"Sales\"|\n",
      "|   d007|        Baca|      Dung|  \"Sales\"|\n",
      "|   d007|     Hiltgen|     Syozo|  \"Sales\"|\n",
      "|   d007|    Pintelas|    Zissis|  \"Sales\"|\n",
      "|   d007|       Azumi|    Douadi|  \"Sales\"|\n",
      "+-------+------------+----------+---------+\n",
      "only showing top 20 rows\n",
      "\n"
     ]
    }
   ],
   "source": [
    "Spark.sql(\"\"\"\n",
    "    SELECT\n",
    "    de.dept_no,\n",
    "    e.last_name,\n",
    "    e.first_name,\n",
    "    d.dept_name\n",
    "FROM capstone_hadoop_rk.department_employees de\n",
    "JOIN\n",
    "capstone_hadoop_rk.employees e on de.emp_no = e.emp_no\n",
    "JOIN\n",
    "capstone_hadoop_rk.departments d on de.dept_no = d.dept_no\n",
    "WHERE d.dept_name = '\"Sales\"'\n",
    "\"\"\").show()"
   ]
  },
  {
   "cell_type": "markdown",
   "metadata": {},
   "source": [
    "## 7. A list showing all employees in the sales and development departments including their employee number, last name, first name and department name."
   ]
  },
  {
   "cell_type": "code",
   "execution_count": 31,
   "metadata": {},
   "outputs": [
    {
     "name": "stdout",
     "output_type": "stream",
     "text": [
      "+------+-----------+----------+-------------+\n",
      "|emp_no|  last_name|first_name|    dept_name|\n",
      "+------+-----------+----------+-------------+\n",
      "| 10001|    Facello|    Georgi|\"development\"|\n",
      "| 10002|     Simmel|   Bezalel|      \"Sales\"|\n",
      "| 10006|    Preusig|    Anneke|\"development\"|\n",
      "| 10008|   Kalloufi|    Saniya|\"development\"|\n",
      "| 10012|  Bridgland|  Patricio|\"development\"|\n",
      "| 10014|      Genin|     Berni|\"development\"|\n",
      "| 10016|Cappelletti|  Kazuhito|      \"Sales\"|\n",
      "| 10018|       Peha|  Kazuhide|\"development\"|\n",
      "| 10021|       Erde|     Ramzi|\"development\"|\n",
      "| 10022|     Famili|    Shahaf|\"development\"|\n",
      "| 10023| Montemayor|     Bojan|\"development\"|\n",
      "| 10025|     Heyers| Prasadram|\"development\"|\n",
      "| 10027|    Reistad|    Divier|\"development\"|\n",
      "| 10028|   Tempesti|  Domenick|\"development\"|\n",
      "| 10031|     Joslin|   Karsten|\"development\"|\n",
      "| 10034|       Swan|     Bader|      \"Sales\"|\n",
      "| 10037|   Makrucki|   Pradeep|\"development\"|\n",
      "| 10040|    Meriste|     Weiyi|\"development\"|\n",
      "| 10041|     Lenart|       Uri|      \"Sales\"|\n",
      "| 10043|    Tzvieli|    Yishay|\"development\"|\n",
      "+------+-----------+----------+-------------+\n",
      "only showing top 20 rows\n",
      "\n"
     ]
    }
   ],
   "source": [
    "Spark.sql(\"\"\"\n",
    "SELECT\n",
    "    de.emp_no,\n",
    "    e.last_name,\n",
    "    e.first_name,\n",
    "    d.dept_name\n",
    "FROM capstone_hadoop_rk.department_employees de\n",
    "JOIN\n",
    "capstone_hadoop_rk.employees e on de.emp_no = e.emp_no\n",
    "JOIN\n",
    "capstone_hadoop_rk.departments d on de.dept_no = d.dept_no\n",
    "WHERE d.dept_name = '\"Sales\"' OR d.dept_name = '\"development\"'\n",
    "\"\"\").show()"
   ]
  },
  {
   "cell_type": "markdown",
   "metadata": {},
   "source": [
    "## 8. A list showing the frequency count of employee last name, in descending order (i.e., how many employees share each last name)"
   ]
  },
  {
   "cell_type": "code",
   "execution_count": 33,
   "metadata": {},
   "outputs": [
    {
     "name": "stdout",
     "output_type": "stream",
     "text": [
      "+-----------+---------+\n",
      "|  last_name|Frequency|\n",
      "+-----------+---------+\n",
      "|       Baba|      226|\n",
      "|     Gelosh|      223|\n",
      "|      Coorg|      223|\n",
      "|     Farris|      222|\n",
      "|    Sudbeck|      222|\n",
      "|     Adachi|      221|\n",
      "|     Osgood|      220|\n",
      "|     Neiman|      218|\n",
      "|     Masada|      218|\n",
      "|    Mandell|      218|\n",
      "|Boudaillier|      217|\n",
      "|    Wendorf|      217|\n",
      "|     Mahnke|      216|\n",
      "|    Solares|      216|\n",
      "|     Pettis|      216|\n",
      "|   Cummings|      216|\n",
      "|     Emmart|      215|\n",
      "|   Collette|      215|\n",
      "|   Birjandi|      215|\n",
      "|    Kulisch|      215|\n",
      "+-----------+---------+\n",
      "only showing top 20 rows\n",
      "\n"
     ]
    }
   ],
   "source": [
    "Spark.sql(\"\"\"\n",
    "    SELECT\n",
    "    last_name,\n",
    "    count(last_name) as Frequency\n",
    "FROM capstone_hadoop_rk.employees\n",
    "GROUP BY last_name\n",
    "ORDER BY count(last_name) DESC\n",
    "\"\"\").show()"
   ]
  },
  {
   "cell_type": "markdown",
   "metadata": {},
   "source": [
    "## 9. Histogram to show the salary distribution among the employee."
   ]
  },
  {
   "cell_type": "code",
   "execution_count": 41,
   "metadata": {},
   "outputs": [],
   "source": [
    "import matplotlib.pyplot as plt\n",
    "import pandas as pd"
   ]
  },
  {
   "cell_type": "code",
   "execution_count": 34,
   "metadata": {},
   "outputs": [
    {
     "name": "stdout",
     "output_type": "stream",
     "text": [
      "+---------+------------+\n",
      "|     bins|salary_range|\n",
      "+---------+------------+\n",
      "|  40k-50k|      158465|\n",
      "|  50k-60k|       57915|\n",
      "|  60k-70k|       41413|\n",
      "|  70k-80k|       24814|\n",
      "|  80k-90k|       11845|\n",
      "| 90k-100k|        4284|\n",
      "|100k-110k|        1069|\n",
      "|110k-120k|         195|\n",
      "|120k-130k|          24|\n",
      "+---------+------------+\n",
      "\n"
     ]
    }
   ],
   "source": [
    "Spark.sql(\"\"\"\n",
    "    SELECT \n",
    "    bins,\n",
    "    count(bins) as salary_range\n",
    "from capstone_hadoop_rk.bins\n",
    "GROUP BY bins\n",
    "ORDER BY salary_range DESC\n",
    "\"\"\").show()"
   ]
  },
  {
   "cell_type": "code",
   "execution_count": 75,
   "metadata": {},
   "outputs": [],
   "source": [
    "Bins = Spark.sql(\"\"\"select * from capstone_hadoop_rk.bins\"\"\")"
   ]
  },
  {
   "cell_type": "code",
   "execution_count": 89,
   "metadata": {},
   "outputs": [],
   "source": [
    "Sal = salaries.toPandas()"
   ]
  },
  {
   "cell_type": "code",
   "execution_count": 95,
   "metadata": {},
   "outputs": [
    {
     "data": {
      "image/png": "[encoded data removed]",
      "text/plain": [
       "<Figure size 720x504 with 1 Axes>"
      ]
     },
     "metadata": {
      "needs_background": "light"
     },
     "output_type": "display_data"
    },
    {
     "data": {
      "text/plain": [
       "<Figure size 720x504 with 0 Axes>"
      ]
     },
     "metadata": {},
     "output_type": "display_data"
    }
   ],
   "source": [
    "plt.rcParams['figure.figsize']=(10,7)\n",
    "plt.hist(Sal['salary'],bins=9,color='xkcd:magenta',alpha=1,edgecolor='black')\n",
    "plt.title('Salary Ranges',fontsize=20,pad=40)\n",
    "plt.xlabel('Salaries',fontsize=16,color='black',labelpad=20)\n",
    "plt.ylabel('Frequency Count',fontsize=16,color='black',labelpad=20)\n",
    "plt.xlim(36000,130000)\n",
    "plt.xticks(fontsize=12)\n",
    "plt.yticks(fontsize=12)\n",
    "plt.show()\n",
    "\n",
    "# Save Figure\n",
    "plt.savefig(\"employee_salary_ranges.png\")\n",
    "\n",
    "# Show plot\n",
    "plt.show()"
   ]
  },
  {
   "cell_type": "markdown",
   "metadata": {},
   "source": [
    "## 10. Bar graph to show Avg salary per title (designation)"
   ]
  },
  {
   "cell_type": "code",
   "execution_count": 97,
   "metadata": {},
   "outputs": [],
   "source": [
    "Avg_Salary = Spark.sql(\"\"\"\n",
    "SELECT\n",
    "    t.title,\n",
    "    avg(s.salary) as Avg_Salary\n",
    "FROM capstone_hadoop_rk.employees e\n",
    "JOIN capstone_hadoop_rk.titles t\n",
    "ON t.title_id = e.emp_title_id\n",
    "JOIN capstone_hadoop_rk.salaries s\n",
    "ON s.emp_no = e.emp_no\n",
    "GROUP BY t.title\n",
    "\"\"\")"
   ]
  },
  {
   "cell_type": "code",
   "execution_count": 98,
   "metadata": {},
   "outputs": [
    {
     "name": "stdout",
     "output_type": "stream",
     "text": [
      "+------------------+------------------+\n",
      "|             title|        Avg_Salary|\n",
      "+------------------+------------------+\n",
      "|             Staff| 58465.38285033152|\n",
      "|Assistant Engineer| 48564.43444730077|\n",
      "|      Senior Staff| 58550.17270435993|\n",
      "|   Senior Engineer| 48506.79987109579|\n",
      "|          Engineer|48535.336511426336|\n",
      "|           Manager|51531.041666666664|\n",
      "|  Technique Leader| 48582.89609189332|\n",
      "+------------------+------------------+\n",
      "\n"
     ]
    }
   ],
   "source": [
    "Avg_Salary.show()"
   ]
  },
  {
   "cell_type": "code",
   "execution_count": 99,
   "metadata": {},
   "outputs": [],
   "source": [
    "Avg_Salary = Avg_Salary.toPandas()"
   ]
  },
  {
   "cell_type": "code",
   "execution_count": 101,
   "metadata": {},
   "outputs": [
    {
     "data": {
      "image/png": "[encoded data removed]",
      "text/plain": [
       "<Figure size 720x504 with 1 Axes>"
      ]
     },
     "metadata": {
      "needs_background": "light"
     },
     "output_type": "display_data"
    }
   ],
   "source": [
    "plt.rcParams['figure.figsize']=(10,7)\n",
    "\n",
    "plt.bar(Avg_Salary['title'], Avg_Salary['Avg_Salary'])\n",
    "plt.xlabel(\"Title\")\n",
    "plt.ylabel(\"Average Salary\")\n",
    "plt.title(\"Average Salary per Title\")\n",
    "plt.show()"
   ]
  },
  {
   "cell_type": "markdown",
   "metadata": {},
   "source": [
    "## 11. Calculate employee tenure and show tenure distribution among the employees."
   ]
  },
  {
   "cell_type": "code",
   "execution_count": 157,
   "metadata": {},
   "outputs": [],
   "source": [
    "from pyspark.sql.functions import *"
   ]
  },
  {
   "cell_type": "code",
   "execution_count": 172,
   "metadata": {
    "scrolled": false
   },
   "outputs": [
    {
     "name": "stdout",
     "output_type": "stream",
     "text": [
      "+------+----------+------------+------+\n",
      "|emp_no|first_name|   last_name|tenure|\n",
      "+------+----------+------------+------+\n",
      "|255100|  Hironoby|    Stavenow|    15|\n",
      "|255314|     Zeydy|   Magalhaes|    15|\n",
      "|255132|     Yifei|    Turnbull|    15|\n",
      "|255010|     Taiji|       Denis|    15|\n",
      "|255137|     Alagu|      Rajala|    15|\n",
      "|255021|    Ashish|     Crouzet|    15|\n",
      "|255143|    Jessie|     Bierman|    15|\n",
      "|255063|    Howell|    Edelhoff|    15|\n",
      "|255151|    Rasiah|    Reghbati|    15|\n",
      "|255084|    Basant|       Yurov|    15|\n",
      "|255157|     Saeed|      Zlotek|    15|\n",
      "|255207|       Fun|Ossenbruggen|    15|\n",
      "|255210|   Arlette|    Cheshire|    15|\n",
      "|255022|    Divier|     Barriga|    15|\n",
      "|255218|   Izaskun|     Kulisch|    15|\n",
      "|255059|       Tse|   Kawashima|    15|\n",
      "|255220|  Kwangsub|      Renear|    15|\n",
      "|255087|    Gererd|     Milicic|    15|\n",
      "|255224|     Feiyu|      Melter|    15|\n",
      "|255176|     Lijia|    Standera|    15|\n",
      "+------+----------+------------+------+\n",
      "only showing top 20 rows\n",
      "\n"
     ]
    }
   ],
   "source": [
    "Spark.sql(\"\"\"\n",
    "SELECT\n",
    "    emp_no,\n",
    "    first_name,\n",
    "    last_name,\n",
    "    2000-year(hire_date) as tenure\n",
    "FROM emp_final\n",
    "order by tenure desc\"\"\").show()"
   ]
  },
  {
   "cell_type": "code",
   "execution_count": 185,
   "metadata": {},
   "outputs": [
    {
     "name": "stdout",
     "output_type": "stream",
     "text": [
      "+------+--------------+\n",
      "|emp_no|    Experience|\n",
      "+------+--------------+\n",
      "| 10001| 10+ years exp|\n",
      "| 10002| 10+ years exp|\n",
      "| 10003| 10+ years exp|\n",
      "| 10004| 10+ years exp|\n",
      "| 10005| 10+ years exp|\n",
      "| 10006| 10+ years exp|\n",
      "| 10007| 10+ years exp|\n",
      "| 10008|5-10 years exp|\n",
      "| 10009| 10+ years exp|\n",
      "| 10010| 10+ years exp|\n",
      "| 10011| 10+ years exp|\n",
      "| 10012|5-10 years exp|\n",
      "| 10013| 10+ years exp|\n",
      "| 10014| 10+ years exp|\n",
      "| 10015| 10+ years exp|\n",
      "| 10016|5-10 years exp|\n",
      "| 10017|5-10 years exp|\n",
      "| 10018| 10+ years exp|\n",
      "| 10019| 1-5 years exp|\n",
      "| 10020|5-10 years exp|\n",
      "+------+--------------+\n",
      "only showing top 20 rows\n",
      "\n"
     ]
    }
   ],
   "source": [
    "Spark.sql(\"\"\"\n",
    "    SELECT\n",
    "    e.emp_no,\n",
    "        CASE\n",
    "            WHEN 2000-year(hire_date) <= 15 AND 2000-year(hire_date) >=10 THEN '10+ years exp'\n",
    "            WHEN 2000-year(hire_date) <= 10 AND 2000-year(hire_date) >=5 THEN '5-10 years exp'\n",
    "            WHEN 2000-year(hire_date) <= 5  AND 2000-year(hire_date) >=1 THEN '1-5 years exp'\n",
    "            ELSE 'FRESHER'\n",
    "            END as Experience\n",
    "        FROM emp_final e\n",
    "JOIN capstone_hadoop_rk.titles t\n",
    "ON t.title_id = e.emp_title_id\n",
    "\"\"\").show()"
   ]
  },
  {
   "cell_type": "markdown",
   "metadata": {},
   "source": [
    "# Addition Analysis"
   ]
  },
  {
   "cell_type": "markdown",
   "metadata": {},
   "source": [
    "## 1. The tenure for each Title"
   ]
  },
  {
   "cell_type": "code",
   "execution_count": 180,
   "metadata": {
    "scrolled": false
   },
   "outputs": [
    {
     "name": "stdout",
     "output_type": "stream",
     "text": [
      "+------------------+------+\n",
      "|             title|tenure|\n",
      "+------------------+------+\n",
      "|   Senior Engineer|    15|\n",
      "|           Manager|    15|\n",
      "|Assistant Engineer|    15|\n",
      "|          Engineer|    15|\n",
      "|  Technique Leader|    15|\n",
      "|             Staff|    15|\n",
      "|      Senior Staff|    15|\n",
      "|             Staff|    14|\n",
      "|   Senior Engineer|    14|\n",
      "|Assistant Engineer|    14|\n",
      "|           Manager|    14|\n",
      "|          Engineer|    14|\n",
      "|  Technique Leader|    14|\n",
      "|      Senior Staff|    14|\n",
      "|      Senior Staff|    13|\n",
      "|Assistant Engineer|    13|\n",
      "|             Staff|    13|\n",
      "|          Engineer|    13|\n",
      "|   Senior Engineer|    13|\n",
      "|  Technique Leader|    13|\n",
      "+------------------+------+\n",
      "only showing top 20 rows\n",
      "\n"
     ]
    }
   ],
   "source": [
    "Spark.sql(\"\"\"\n",
    "SELECT\n",
    "    t.title,\n",
    "    2000-year(e.hire_date) as tenure\n",
    "FROM emp_final e\n",
    "JOIN capstone_hadoop_rk.titles t\n",
    "ON t.title_id = e.emp_title_id\n",
    "GROUP BY tenure, t.title \n",
    "order by tenure desc\"\"\").show()"
   ]
  },
  {
   "cell_type": "markdown",
   "metadata": {},
   "source": [
    "## 2. Employees left the organization and there respective Tenure and Title when they left"
   ]
  },
  {
   "cell_type": "code",
   "execution_count": 229,
   "metadata": {},
   "outputs": [
    {
     "name": "stdout",
     "output_type": "stream",
     "text": [
      "+----------------+--------------+------+\n",
      "|           title|Employees_left|Tenure|\n",
      "+----------------+--------------+------+\n",
      "| Senior Engineer|         10001|    14|\n",
      "|           Staff|         10007|    11|\n",
      "|        Engineer|         10022|     5|\n",
      "| Senior Engineer|         10031|     9|\n",
      "| Senior Engineer|         10047|    11|\n",
      "| Senior Engineer|         10062|     9|\n",
      "|Technique Leader|         10074|    10|\n",
      "|           Staff|         10082|    10|\n",
      "|           Staff|         10088|    12|\n",
      "|        Engineer|         10102|     6|\n",
      "| Senior Engineer|         10127|    11|\n",
      "|    Senior Staff|         10141|     7|\n",
      "| Senior Engineer|         10158|    14|\n",
      "|           Staff|         10187|     9|\n",
      "|           Staff|         10210|     6|\n",
      "| Senior Engineer|         10212|    10|\n",
      "|           Staff|         10216|    13|\n",
      "| Senior Engineer|         10218|     3|\n",
      "|        Engineer|         10229|    13|\n",
      "|           Staff|         10232|     8|\n",
      "+----------------+--------------+------+\n",
      "only showing top 20 rows\n",
      "\n"
     ]
    }
   ],
   "source": [
    "Spark.sql(\"\"\"\n",
    "    select\n",
    "    t.title,\n",
    "    e.emp_no as Employees_left,\n",
    "    2000-year(e.hire_date) as Tenure\n",
    "    from emp_final e\n",
    "    inner join titles t\n",
    "    on t.title_id = e.emp_title_id\n",
    "    where left_ = 1\n",
    "\"\"\").show()"
   ]
  },
  {
   "cell_type": "markdown",
   "metadata": {},
   "source": [
    "## 3. Total number of projects in every department"
   ]
  },
  {
   "cell_type": "code",
   "execution_count": 220,
   "metadata": {
    "scrolled": false
   },
   "outputs": [
    {
     "name": "stdout",
     "output_type": "stream",
     "text": [
      "+--------------------+--------------+\n",
      "|           dept_name|Total_Projects|\n",
      "+--------------------+--------------+\n",
      "|       \"development\"|        471220|\n",
      "|        \"Production\"|        404209|\n",
      "|             \"Sales\"|        288313|\n",
      "|  \"Customer Service\"|        129248|\n",
      "|          \"Research\"|        117095|\n",
      "|         \"Marketing\"|        111398|\n",
      "|\"Quality Management\"|        110863|\n",
      "|   \"Human Resources\"|         97697|\n",
      "|           \"Finance\"|         95384|\n",
      "+--------------------+--------------+\n",
      "\n"
     ]
    }
   ],
   "source": [
    "Spark.sql(\"\"\"\n",
    "    select\n",
    "        d.dept_name,\n",
    "        sum(no_of_projects) as Total_Projects\n",
    "    from emp_final e\n",
    "    inner join department_employees de\n",
    "    on e.emp_no = de.emp_no\n",
    "    inner join departments d\n",
    "    on d.dept_no = de.dept_no\n",
    "    group by d.dept_name\n",
    "    order by Total_Projects desc\n",
    "\"\"\").show()"
   ]
  },
  {
   "cell_type": "markdown",
   "metadata": {},
   "source": [
    "## 4. Number of Employees who left in the last 5 year"
   ]
  },
  {
   "cell_type": "code",
   "execution_count": 235,
   "metadata": {},
   "outputs": [
    {
     "name": "stdout",
     "output_type": "stream",
     "text": [
      "+--------------------+\n",
      "|max(year(last_date))|\n",
      "+--------------------+\n",
      "|                2013|\n",
      "+--------------------+\n",
      "\n"
     ]
    }
   ],
   "source": [
    "Spark.sql('select max(year(last_date)) from emp_final').show()"
   ]
  },
  {
   "cell_type": "code",
   "execution_count": 246,
   "metadata": {},
   "outputs": [
    {
     "name": "stdout",
     "output_type": "stream",
     "text": [
      "+-----------------------+\n",
      "|Employees_left_in_5_yrs|\n",
      "+-----------------------+\n",
      "|                    373|\n",
      "+-----------------------+\n",
      "\n"
     ]
    }
   ],
   "source": [
    "Spark.sql(\"\"\"\n",
    "    select\n",
    "    count(e.emp_no) as Employees_left_in_5_yrs\n",
    "    from emp_final e\n",
    "    inner join titles t\n",
    "    on t.title_id = e.emp_title_id\n",
    "    where left_ = 1 and year(e.last_date) >= 2009\n",
    "\"\"\").show()"
   ]
  },
  {
   "cell_type": "markdown",
   "metadata": {},
   "source": [
    "## 5. Number of Employees in each rating category"
   ]
  },
  {
   "cell_type": "code",
   "execution_count": 255,
   "metadata": {},
   "outputs": [
    {
     "name": "stdout",
     "output_type": "stream",
     "text": [
      "+------+---------------+\n",
      "|rating|No_of_employees|\n",
      "+------+---------------+\n",
      "|     S|          10542|\n",
      "|   PIP|          15105|\n",
      "|     C|          71304|\n",
      "|     A|          95919|\n",
      "|     B|         107154|\n",
      "+------+---------------+\n",
      "\n"
     ]
    }
   ],
   "source": [
    "Spark.sql(\"\"\"\n",
    "    select\n",
    "    last_performance_ratings as rating,\n",
    "    count(emp_no) as No_of_employees\n",
    "    from emp_final\n",
    "    group by rating\n",
    "    order by No_of_employees\n",
    "\"\"\").show()"
   ]
  },
  {
   "cell_type": "code",
   "execution_count": 258,
   "metadata": {},
   "outputs": [
    {
     "name": "stdout",
     "output_type": "stream",
     "text": [
      "+------+---------------+---+\n",
      "|rating|No_of_employees|sex|\n",
      "+------+---------------+---+\n",
      "|     S|           4258|  F|\n",
      "|   PIP|           6126|  F|\n",
      "|     S|           6284|  M|\n",
      "|   PIP|           8979|  M|\n",
      "|     C|          28509|  F|\n",
      "|     A|          38294|  F|\n",
      "|     C|          42795|  M|\n",
      "|     B|          42864|  F|\n",
      "|     A|          57625|  M|\n",
      "|     B|          64290|  M|\n",
      "+------+---------------+---+\n",
      "\n"
     ]
    }
   ],
   "source": [
    "Spark.sql(\"\"\"\n",
    "    select\n",
    "    last_performance_ratings as rating,\n",
    "    count(emp_no) as No_of_employees,\n",
    "    sex\n",
    "    from emp_final\n",
    "    group by rating, sex\n",
    "    order by No_of_employees\n",
    "\"\"\").show()"
   ]
  },
  {
   "cell_type": "code",
   "execution_count": null,
   "metadata": {},
   "outputs": [],
   "source": []
  }
 ],
 "metadata": {
  "kernelspec": {
   "display_name": "Python 3",
   "language": "python",
   "name": "python3"
  },
  "language_info": {
   "codemirror_mode": {
    "name": "ipython",
    "version": 3
   },
   "file_extension": ".py",
   "mimetype": "text/x-python",
   "name": "python",
   "nbconvert_exporter": "python",
   "pygments_lexer": "ipython3",
   "version": "3.7.6"
  }
 },
 "nbformat": 4,
 "nbformat_minor": 4
}
