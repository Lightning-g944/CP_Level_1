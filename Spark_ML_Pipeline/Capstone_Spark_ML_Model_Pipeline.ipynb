{
 "cells": [
  {
   "cell_type": "code",
   "execution_count": 1,
   "metadata": {},
   "outputs": [],
   "source": [
    "from pyspark.sql import SparkSession\n",
    "Spark = (SparkSession.builder.appName(\"capstone_ML\")\\\n",
    "        .config(\"hive.metastore.uris\",\"thrift://ip-10-1-2-24.ap-south-1.compute.internal:9083\")\\\n",
    "        .enableHiveSupport().getOrCreate())"
   ]
  },
  {
   "cell_type": "markdown",
   "metadata": {},
   "source": [
    "## a. Read the data form Hive Tables"
   ]
  },
  {
   "cell_type": "code",
   "execution_count": 25,
   "metadata": {},
   "outputs": [],
   "source": [
    "dept = Spark.sql(\"select * from capstone_hadoop_rk.departments\")\n",
    "titles = Spark.sql(\"select * from capstone_hadoop_rk.titles\")\n",
    "salaries = Spark.sql(\"select * from capstone_hadoop_rk.salaries\")\n",
    "dept_mrg = Spark.sql(\"select * from capstone_hadoop_rk.department_managers\")\n",
    "dept_emp = Spark.sql(\"select * from capstone_hadoop_rk.department_employees\")\n",
    "emp = Spark.sql(\"select * from capstone_hadoop_rk.employees_final\")"
   ]
  },
  {
   "cell_type": "markdown",
   "metadata": {},
   "source": [
    "## b. Joining all the tables at employee level"
   ]
  },
  {
   "cell_type": "code",
   "execution_count": 228,
   "metadata": {},
   "outputs": [],
   "source": [
    "df =  emp.join(dept_emp,on=\"emp_no\",how=\"left\")\\\n",
    "         .join(salaries,on=\"emp_no\",how=\"left\")\\\n",
    "         .join(titles,emp.emp_title_id==titles.title_id)\\\n",
    "         .join(dept,on=\"dept_no\",how=\"left\")"
   ]
  },
  {
   "cell_type": "code",
   "execution_count": 229,
   "metadata": {
    "scrolled": false
   },
   "outputs": [
    {
     "data": {
      "text/html": [
       "<div>\n",
       "<style scoped>\n",
       "    .dataframe tbody tr th:only-of-type {\n",
       "        vertical-align: middle;\n",
       "    }\n",
       "\n",
       "    .dataframe tbody tr th {\n",
       "        vertical-align: top;\n",
       "    }\n",
       "\n",
       "    .dataframe thead th {\n",
       "        text-align: right;\n",
       "    }\n",
       "</style>\n",
       "<table border=\"1\" class=\"dataframe\">\n",
       "  <thead>\n",
       "    <tr style=\"text-align: right;\">\n",
       "      <th></th>\n",
       "      <th>dept_no</th>\n",
       "      <th>emp_no</th>\n",
       "      <th>emp_title_id</th>\n",
       "      <th>birth_date</th>\n",
       "      <th>first_name</th>\n",
       "      <th>last_name</th>\n",
       "      <th>sex</th>\n",
       "      <th>hire_date</th>\n",
       "      <th>no_of_projects</th>\n",
       "      <th>last_performance_ratings</th>\n",
       "      <th>left_</th>\n",
       "      <th>_c10</th>\n",
       "      <th>salary</th>\n",
       "      <th>title_id</th>\n",
       "      <th>title</th>\n",
       "      <th>dept_name</th>\n",
       "    </tr>\n",
       "  </thead>\n",
       "  <tbody>\n",
       "    <tr>\n",
       "      <th>0</th>\n",
       "      <td>d005</td>\n",
       "      <td>10001</td>\n",
       "      <td>e0003</td>\n",
       "      <td>1953-09-02</td>\n",
       "      <td>Georgi</td>\n",
       "      <td>Facello</td>\n",
       "      <td>M</td>\n",
       "      <td>1986-06-26</td>\n",
       "      <td>9</td>\n",
       "      <td>C</td>\n",
       "      <td>1</td>\n",
       "      <td>None</td>\n",
       "      <td>60117</td>\n",
       "      <td>e0003</td>\n",
       "      <td>Senior Engineer</td>\n",
       "      <td>\"development\"</td>\n",
       "    </tr>\n",
       "    <tr>\n",
       "      <th>1</th>\n",
       "      <td>d007</td>\n",
       "      <td>10002</td>\n",
       "      <td>s0001</td>\n",
       "      <td>1964-06-02</td>\n",
       "      <td>Bezalel</td>\n",
       "      <td>Simmel</td>\n",
       "      <td>F</td>\n",
       "      <td>1985-11-21</td>\n",
       "      <td>8</td>\n",
       "      <td>B</td>\n",
       "      <td>0</td>\n",
       "      <td>None</td>\n",
       "      <td>65828</td>\n",
       "      <td>s0001</td>\n",
       "      <td>Staff</td>\n",
       "      <td>\"Sales\"</td>\n",
       "    </tr>\n",
       "    <tr>\n",
       "      <th>2</th>\n",
       "      <td>d004</td>\n",
       "      <td>10003</td>\n",
       "      <td>e0003</td>\n",
       "      <td>1959-12-03</td>\n",
       "      <td>Parto</td>\n",
       "      <td>Bamford</td>\n",
       "      <td>M</td>\n",
       "      <td>1986-08-28</td>\n",
       "      <td>1</td>\n",
       "      <td>C</td>\n",
       "      <td>0</td>\n",
       "      <td>None</td>\n",
       "      <td>40006</td>\n",
       "      <td>e0003</td>\n",
       "      <td>Senior Engineer</td>\n",
       "      <td>\"Production\"</td>\n",
       "    </tr>\n",
       "    <tr>\n",
       "      <th>3</th>\n",
       "      <td>d004</td>\n",
       "      <td>10004</td>\n",
       "      <td>e0003</td>\n",
       "      <td>1954-05-01</td>\n",
       "      <td>Chirstian</td>\n",
       "      <td>Koblick</td>\n",
       "      <td>M</td>\n",
       "      <td>1986-12-01</td>\n",
       "      <td>5</td>\n",
       "      <td>A</td>\n",
       "      <td>0</td>\n",
       "      <td>None</td>\n",
       "      <td>40054</td>\n",
       "      <td>e0003</td>\n",
       "      <td>Senior Engineer</td>\n",
       "      <td>\"Production\"</td>\n",
       "    </tr>\n",
       "    <tr>\n",
       "      <th>4</th>\n",
       "      <td>d003</td>\n",
       "      <td>10005</td>\n",
       "      <td>s0001</td>\n",
       "      <td>1955-01-21</td>\n",
       "      <td>Kyoichi</td>\n",
       "      <td>Maliniak</td>\n",
       "      <td>M</td>\n",
       "      <td>1989-09-12</td>\n",
       "      <td>6</td>\n",
       "      <td>A</td>\n",
       "      <td>0</td>\n",
       "      <td>None</td>\n",
       "      <td>78228</td>\n",
       "      <td>s0001</td>\n",
       "      <td>Staff</td>\n",
       "      <td>\"Human Resources\"</td>\n",
       "    </tr>\n",
       "    <tr>\n",
       "      <th>...</th>\n",
       "      <td>...</td>\n",
       "      <td>...</td>\n",
       "      <td>...</td>\n",
       "      <td>...</td>\n",
       "      <td>...</td>\n",
       "      <td>...</td>\n",
       "      <td>...</td>\n",
       "      <td>...</td>\n",
       "      <td>...</td>\n",
       "      <td>...</td>\n",
       "      <td>...</td>\n",
       "      <td>...</td>\n",
       "      <td>...</td>\n",
       "      <td>...</td>\n",
       "      <td>...</td>\n",
       "      <td>...</td>\n",
       "    </tr>\n",
       "    <tr>\n",
       "      <th>331598</th>\n",
       "      <td>d004</td>\n",
       "      <td>499995</td>\n",
       "      <td>e0002</td>\n",
       "      <td>1958-09-24</td>\n",
       "      <td>Dekang</td>\n",
       "      <td>Lichtner</td>\n",
       "      <td>F</td>\n",
       "      <td>1993-01-12</td>\n",
       "      <td>5</td>\n",
       "      <td>B</td>\n",
       "      <td>0</td>\n",
       "      <td>None</td>\n",
       "      <td>40000</td>\n",
       "      <td>e0002</td>\n",
       "      <td>Engineer</td>\n",
       "      <td>\"Production\"</td>\n",
       "    </tr>\n",
       "    <tr>\n",
       "      <th>331599</th>\n",
       "      <td>d004</td>\n",
       "      <td>499996</td>\n",
       "      <td>e0003</td>\n",
       "      <td>1953-03-07</td>\n",
       "      <td>Zito</td>\n",
       "      <td>Baaz</td>\n",
       "      <td>M</td>\n",
       "      <td>1990-09-27</td>\n",
       "      <td>8</td>\n",
       "      <td>B</td>\n",
       "      <td>1</td>\n",
       "      <td>None</td>\n",
       "      <td>58058</td>\n",
       "      <td>e0003</td>\n",
       "      <td>Senior Engineer</td>\n",
       "      <td>\"Production\"</td>\n",
       "    </tr>\n",
       "    <tr>\n",
       "      <th>331600</th>\n",
       "      <td>d005</td>\n",
       "      <td>499997</td>\n",
       "      <td>e0003</td>\n",
       "      <td>1961-08-03</td>\n",
       "      <td>Berhard</td>\n",
       "      <td>Lenart</td>\n",
       "      <td>M</td>\n",
       "      <td>1986-04-21</td>\n",
       "      <td>10</td>\n",
       "      <td>B</td>\n",
       "      <td>0</td>\n",
       "      <td>None</td>\n",
       "      <td>49597</td>\n",
       "      <td>e0003</td>\n",
       "      <td>Senior Engineer</td>\n",
       "      <td>\"development\"</td>\n",
       "    </tr>\n",
       "    <tr>\n",
       "      <th>331601</th>\n",
       "      <td>d002</td>\n",
       "      <td>499998</td>\n",
       "      <td>s0001</td>\n",
       "      <td>1956-09-05</td>\n",
       "      <td>Patricia</td>\n",
       "      <td>Breugel</td>\n",
       "      <td>M</td>\n",
       "      <td>1993-10-13</td>\n",
       "      <td>1</td>\n",
       "      <td>B</td>\n",
       "      <td>0</td>\n",
       "      <td>None</td>\n",
       "      <td>40000</td>\n",
       "      <td>s0001</td>\n",
       "      <td>Staff</td>\n",
       "      <td>\"Finance\"</td>\n",
       "    </tr>\n",
       "    <tr>\n",
       "      <th>331602</th>\n",
       "      <td>d004</td>\n",
       "      <td>499999</td>\n",
       "      <td>e0002</td>\n",
       "      <td>1958-05-01</td>\n",
       "      <td>Sachin</td>\n",
       "      <td>Tsukuda</td>\n",
       "      <td>M</td>\n",
       "      <td>1997-11-30</td>\n",
       "      <td>8</td>\n",
       "      <td>A</td>\n",
       "      <td>0</td>\n",
       "      <td>None</td>\n",
       "      <td>63707</td>\n",
       "      <td>e0002</td>\n",
       "      <td>Engineer</td>\n",
       "      <td>\"Production\"</td>\n",
       "    </tr>\n",
       "  </tbody>\n",
       "</table>\n",
       "<p>331603 rows × 16 columns</p>\n",
       "</div>"
      ],
      "text/plain": [
       "       dept_no  emp_no emp_title_id  birth_date first_name last_name sex  \\\n",
       "0         d005   10001        e0003  1953-09-02     Georgi   Facello   M   \n",
       "1         d007   10002        s0001  1964-06-02    Bezalel    Simmel   F   \n",
       "2         d004   10003        e0003  1959-12-03      Parto   Bamford   M   \n",
       "3         d004   10004        e0003  1954-05-01  Chirstian   Koblick   M   \n",
       "4         d003   10005        s0001  1955-01-21    Kyoichi  Maliniak   M   \n",
       "...        ...     ...          ...         ...        ...       ...  ..   \n",
       "331598    d004  499995        e0002  1958-09-24     Dekang  Lichtner   F   \n",
       "331599    d004  499996        e0003  1953-03-07       Zito      Baaz   M   \n",
       "331600    d005  499997        e0003  1961-08-03    Berhard    Lenart   M   \n",
       "331601    d002  499998        s0001  1956-09-05   Patricia   Breugel   M   \n",
       "331602    d004  499999        e0002  1958-05-01     Sachin   Tsukuda   M   \n",
       "\n",
       "         hire_date  no_of_projects last_performance_ratings  left_  _c10  \\\n",
       "0       1986-06-26               9                        C      1  None   \n",
       "1       1985-11-21               8                        B      0  None   \n",
       "2       1986-08-28               1                        C      0  None   \n",
       "3       1986-12-01               5                        A      0  None   \n",
       "4       1989-09-12               6                        A      0  None   \n",
       "...            ...             ...                      ...    ...   ...   \n",
       "331598  1993-01-12               5                        B      0  None   \n",
       "331599  1990-09-27               8                        B      1  None   \n",
       "331600  1986-04-21              10                        B      0  None   \n",
       "331601  1993-10-13               1                        B      0  None   \n",
       "331602  1997-11-30               8                        A      0  None   \n",
       "\n",
       "        salary title_id            title          dept_name  \n",
       "0        60117    e0003  Senior Engineer      \"development\"  \n",
       "1        65828    s0001            Staff            \"Sales\"  \n",
       "2        40006    e0003  Senior Engineer       \"Production\"  \n",
       "3        40054    e0003  Senior Engineer       \"Production\"  \n",
       "4        78228    s0001            Staff  \"Human Resources\"  \n",
       "...        ...      ...              ...                ...  \n",
       "331598   40000    e0002         Engineer       \"Production\"  \n",
       "331599   58058    e0003  Senior Engineer       \"Production\"  \n",
       "331600   49597    e0003  Senior Engineer      \"development\"  \n",
       "331601   40000    s0001            Staff          \"Finance\"  \n",
       "331602   63707    e0002         Engineer       \"Production\"  \n",
       "\n",
       "[331603 rows x 16 columns]"
      ]
     },
     "execution_count": 229,
     "metadata": {},
     "output_type": "execute_result"
    }
   ],
   "source": [
    "df.toPandas()"
   ]
  },
  {
   "cell_type": "markdown",
   "metadata": {},
   "source": [
    "## Loading the Data into HDFS in parquet file"
   ]
  },
  {
   "cell_type": "code",
   "execution_count": 333,
   "metadata": {},
   "outputs": [],
   "source": [
    "df.write.format('parquet').save('Capstone_Complete_Data')"
   ]
  },
  {
   "cell_type": "markdown",
   "metadata": {},
   "source": [
    "## Exploring the Data"
   ]
  },
  {
   "cell_type": "code",
   "execution_count": 230,
   "metadata": {},
   "outputs": [
    {
     "data": {
      "text/plain": [
       "DataFrame[dept_no: string, emp_no: int, emp_title_id: string, birth_date: date, first_name: string, last_name: string, sex: string, hire_date: date, no_of_projects: int, last_performance_ratings: string, left_: int, _c10: date, salary: bigint, title_id: string, title: string, dept_name: string]"
      ]
     },
     "execution_count": 230,
     "metadata": {},
     "output_type": "execute_result"
    }
   ],
   "source": [
    "df.cache()"
   ]
  },
  {
   "cell_type": "code",
   "execution_count": 231,
   "metadata": {},
   "outputs": [
    {
     "name": "stdout",
     "output_type": "stream",
     "text": [
      "+-------+------+------------+----------+----------+---------+---+----------+--------------+------------------------+-----+----+------+--------+---------------+-----------------+\n",
      "|dept_no|emp_no|emp_title_id|birth_date|first_name|last_name|sex| hire_date|no_of_projects|last_performance_ratings|left_|_c10|salary|title_id|          title|        dept_name|\n",
      "+-------+------+------------+----------+----------+---------+---+----------+--------------+------------------------+-----+----+------+--------+---------------+-----------------+\n",
      "|   d005| 10001|       e0003|1953-09-02|    Georgi|  Facello|  M|1986-06-26|             9|                       C|    1|null| 60117|   e0003|Senior Engineer|    \"development\"|\n",
      "|   d007| 10002|       s0001|1964-06-02|   Bezalel|   Simmel|  F|1985-11-21|             8|                       B|    0|null| 65828|   s0001|          Staff|          \"Sales\"|\n",
      "|   d004| 10003|       e0003|1959-12-03|     Parto|  Bamford|  M|1986-08-28|             1|                       C|    0|null| 40006|   e0003|Senior Engineer|     \"Production\"|\n",
      "|   d004| 10004|       e0003|1954-05-01| Chirstian|  Koblick|  M|1986-12-01|             5|                       A|    0|null| 40054|   e0003|Senior Engineer|     \"Production\"|\n",
      "|   d003| 10005|       s0001|1955-01-21|   Kyoichi| Maliniak|  M|1989-09-12|             6|                       A|    0|null| 78228|   s0001|          Staff|\"Human Resources\"|\n",
      "+-------+------+------------+----------+----------+---------+---+----------+--------------+------------------------+-----+----+------+--------+---------------+-----------------+\n",
      "only showing top 5 rows\n",
      "\n"
     ]
    }
   ],
   "source": [
    "df.show(5)"
   ]
  },
  {
   "cell_type": "code",
   "execution_count": 232,
   "metadata": {},
   "outputs": [
    {
     "data": {
      "text/html": [
       "<div>\n",
       "<style scoped>\n",
       "    .dataframe tbody tr th:only-of-type {\n",
       "        vertical-align: middle;\n",
       "    }\n",
       "\n",
       "    .dataframe tbody tr th {\n",
       "        vertical-align: top;\n",
       "    }\n",
       "\n",
       "    .dataframe thead th {\n",
       "        text-align: right;\n",
       "    }\n",
       "</style>\n",
       "<table border=\"1\" class=\"dataframe\">\n",
       "  <thead>\n",
       "    <tr style=\"text-align: right;\">\n",
       "      <th></th>\n",
       "      <th>0</th>\n",
       "      <th>1</th>\n",
       "      <th>2</th>\n",
       "      <th>3</th>\n",
       "      <th>4</th>\n",
       "      <th>5</th>\n",
       "      <th>6</th>\n",
       "      <th>7</th>\n",
       "      <th>8</th>\n",
       "      <th>9</th>\n",
       "    </tr>\n",
       "  </thead>\n",
       "  <tbody>\n",
       "    <tr>\n",
       "      <th>dept_no</th>\n",
       "      <td>d005</td>\n",
       "      <td>d007</td>\n",
       "      <td>d004</td>\n",
       "      <td>d004</td>\n",
       "      <td>d003</td>\n",
       "      <td>d005</td>\n",
       "      <td>d008</td>\n",
       "      <td>d005</td>\n",
       "      <td>d006</td>\n",
       "      <td>d006</td>\n",
       "    </tr>\n",
       "    <tr>\n",
       "      <th>emp_no</th>\n",
       "      <td>10001</td>\n",
       "      <td>10002</td>\n",
       "      <td>10003</td>\n",
       "      <td>10004</td>\n",
       "      <td>10005</td>\n",
       "      <td>10006</td>\n",
       "      <td>10007</td>\n",
       "      <td>10008</td>\n",
       "      <td>10009</td>\n",
       "      <td>10010</td>\n",
       "    </tr>\n",
       "    <tr>\n",
       "      <th>emp_title_id</th>\n",
       "      <td>e0003</td>\n",
       "      <td>s0001</td>\n",
       "      <td>e0003</td>\n",
       "      <td>e0003</td>\n",
       "      <td>s0001</td>\n",
       "      <td>e0003</td>\n",
       "      <td>s0001</td>\n",
       "      <td>e0001</td>\n",
       "      <td>e0003</td>\n",
       "      <td>e0002</td>\n",
       "    </tr>\n",
       "    <tr>\n",
       "      <th>birth_date</th>\n",
       "      <td>1953-09-02</td>\n",
       "      <td>1964-06-02</td>\n",
       "      <td>1959-12-03</td>\n",
       "      <td>1954-05-01</td>\n",
       "      <td>1955-01-21</td>\n",
       "      <td>1953-04-20</td>\n",
       "      <td>1957-05-23</td>\n",
       "      <td>1958-02-19</td>\n",
       "      <td>1952-04-19</td>\n",
       "      <td>1963-06-01</td>\n",
       "    </tr>\n",
       "    <tr>\n",
       "      <th>first_name</th>\n",
       "      <td>Georgi</td>\n",
       "      <td>Bezalel</td>\n",
       "      <td>Parto</td>\n",
       "      <td>Chirstian</td>\n",
       "      <td>Kyoichi</td>\n",
       "      <td>Anneke</td>\n",
       "      <td>Tzvetan</td>\n",
       "      <td>Saniya</td>\n",
       "      <td>Sumant</td>\n",
       "      <td>Duangkaew</td>\n",
       "    </tr>\n",
       "    <tr>\n",
       "      <th>last_name</th>\n",
       "      <td>Facello</td>\n",
       "      <td>Simmel</td>\n",
       "      <td>Bamford</td>\n",
       "      <td>Koblick</td>\n",
       "      <td>Maliniak</td>\n",
       "      <td>Preusig</td>\n",
       "      <td>Zielinski</td>\n",
       "      <td>Kalloufi</td>\n",
       "      <td>Peac</td>\n",
       "      <td>Piveteau</td>\n",
       "    </tr>\n",
       "    <tr>\n",
       "      <th>sex</th>\n",
       "      <td>M</td>\n",
       "      <td>F</td>\n",
       "      <td>M</td>\n",
       "      <td>M</td>\n",
       "      <td>M</td>\n",
       "      <td>F</td>\n",
       "      <td>F</td>\n",
       "      <td>M</td>\n",
       "      <td>F</td>\n",
       "      <td>F</td>\n",
       "    </tr>\n",
       "    <tr>\n",
       "      <th>hire_date</th>\n",
       "      <td>1986-06-26</td>\n",
       "      <td>1985-11-21</td>\n",
       "      <td>1986-08-28</td>\n",
       "      <td>1986-12-01</td>\n",
       "      <td>1989-09-12</td>\n",
       "      <td>1989-06-02</td>\n",
       "      <td>1989-02-10</td>\n",
       "      <td>1994-09-15</td>\n",
       "      <td>1985-02-18</td>\n",
       "      <td>1989-08-24</td>\n",
       "    </tr>\n",
       "    <tr>\n",
       "      <th>no_of_projects</th>\n",
       "      <td>9</td>\n",
       "      <td>8</td>\n",
       "      <td>1</td>\n",
       "      <td>5</td>\n",
       "      <td>6</td>\n",
       "      <td>10</td>\n",
       "      <td>6</td>\n",
       "      <td>9</td>\n",
       "      <td>8</td>\n",
       "      <td>4</td>\n",
       "    </tr>\n",
       "    <tr>\n",
       "      <th>last_performance_ratings</th>\n",
       "      <td>C</td>\n",
       "      <td>B</td>\n",
       "      <td>C</td>\n",
       "      <td>A</td>\n",
       "      <td>A</td>\n",
       "      <td>B</td>\n",
       "      <td>B</td>\n",
       "      <td>C</td>\n",
       "      <td>B</td>\n",
       "      <td>A</td>\n",
       "    </tr>\n",
       "    <tr>\n",
       "      <th>left_</th>\n",
       "      <td>1</td>\n",
       "      <td>0</td>\n",
       "      <td>0</td>\n",
       "      <td>0</td>\n",
       "      <td>0</td>\n",
       "      <td>0</td>\n",
       "      <td>1</td>\n",
       "      <td>0</td>\n",
       "      <td>0</td>\n",
       "      <td>0</td>\n",
       "    </tr>\n",
       "    <tr>\n",
       "      <th>_c10</th>\n",
       "      <td>None</td>\n",
       "      <td>None</td>\n",
       "      <td>None</td>\n",
       "      <td>None</td>\n",
       "      <td>None</td>\n",
       "      <td>None</td>\n",
       "      <td>None</td>\n",
       "      <td>None</td>\n",
       "      <td>None</td>\n",
       "      <td>None</td>\n",
       "    </tr>\n",
       "    <tr>\n",
       "      <th>salary</th>\n",
       "      <td>60117</td>\n",
       "      <td>65828</td>\n",
       "      <td>40006</td>\n",
       "      <td>40054</td>\n",
       "      <td>78228</td>\n",
       "      <td>40000</td>\n",
       "      <td>56724</td>\n",
       "      <td>46671</td>\n",
       "      <td>60929</td>\n",
       "      <td>72488</td>\n",
       "    </tr>\n",
       "    <tr>\n",
       "      <th>title_id</th>\n",
       "      <td>e0003</td>\n",
       "      <td>s0001</td>\n",
       "      <td>e0003</td>\n",
       "      <td>e0003</td>\n",
       "      <td>s0001</td>\n",
       "      <td>e0003</td>\n",
       "      <td>s0001</td>\n",
       "      <td>e0001</td>\n",
       "      <td>e0003</td>\n",
       "      <td>e0002</td>\n",
       "    </tr>\n",
       "    <tr>\n",
       "      <th>title</th>\n",
       "      <td>Senior Engineer</td>\n",
       "      <td>Staff</td>\n",
       "      <td>Senior Engineer</td>\n",
       "      <td>Senior Engineer</td>\n",
       "      <td>Staff</td>\n",
       "      <td>Senior Engineer</td>\n",
       "      <td>Staff</td>\n",
       "      <td>Assistant Engineer</td>\n",
       "      <td>Senior Engineer</td>\n",
       "      <td>Engineer</td>\n",
       "    </tr>\n",
       "    <tr>\n",
       "      <th>dept_name</th>\n",
       "      <td>\"development\"</td>\n",
       "      <td>\"Sales\"</td>\n",
       "      <td>\"Production\"</td>\n",
       "      <td>\"Production\"</td>\n",
       "      <td>\"Human Resources\"</td>\n",
       "      <td>\"development\"</td>\n",
       "      <td>\"Research\"</td>\n",
       "      <td>\"development\"</td>\n",
       "      <td>\"Quality Management\"</td>\n",
       "      <td>\"Quality Management\"</td>\n",
       "    </tr>\n",
       "  </tbody>\n",
       "</table>\n",
       "</div>"
      ],
      "text/plain": [
       "                                        0           1                2  \\\n",
       "dept_no                              d005        d007             d004   \n",
       "emp_no                              10001       10002            10003   \n",
       "emp_title_id                        e0003       s0001            e0003   \n",
       "birth_date                     1953-09-02  1964-06-02       1959-12-03   \n",
       "first_name                         Georgi     Bezalel            Parto   \n",
       "last_name                         Facello      Simmel          Bamford   \n",
       "sex                                     M           F                M   \n",
       "hire_date                      1986-06-26  1985-11-21       1986-08-28   \n",
       "no_of_projects                          9           8                1   \n",
       "last_performance_ratings                C           B                C   \n",
       "left_                                   1           0                0   \n",
       "_c10                                 None        None             None   \n",
       "salary                              60117       65828            40006   \n",
       "title_id                            e0003       s0001            e0003   \n",
       "title                     Senior Engineer       Staff  Senior Engineer   \n",
       "dept_name                   \"development\"     \"Sales\"     \"Production\"   \n",
       "\n",
       "                                        3                  4                5  \\\n",
       "dept_no                              d004               d003             d005   \n",
       "emp_no                              10004              10005            10006   \n",
       "emp_title_id                        e0003              s0001            e0003   \n",
       "birth_date                     1954-05-01         1955-01-21       1953-04-20   \n",
       "first_name                      Chirstian            Kyoichi           Anneke   \n",
       "last_name                         Koblick           Maliniak          Preusig   \n",
       "sex                                     M                  M                F   \n",
       "hire_date                      1986-12-01         1989-09-12       1989-06-02   \n",
       "no_of_projects                          5                  6               10   \n",
       "last_performance_ratings                A                  A                B   \n",
       "left_                                   0                  0                0   \n",
       "_c10                                 None               None             None   \n",
       "salary                              40054              78228            40000   \n",
       "title_id                            e0003              s0001            e0003   \n",
       "title                     Senior Engineer              Staff  Senior Engineer   \n",
       "dept_name                    \"Production\"  \"Human Resources\"    \"development\"   \n",
       "\n",
       "                                   6                   7  \\\n",
       "dept_no                         d008                d005   \n",
       "emp_no                         10007               10008   \n",
       "emp_title_id                   s0001               e0001   \n",
       "birth_date                1957-05-23          1958-02-19   \n",
       "first_name                   Tzvetan              Saniya   \n",
       "last_name                  Zielinski            Kalloufi   \n",
       "sex                                F                   M   \n",
       "hire_date                 1989-02-10          1994-09-15   \n",
       "no_of_projects                     6                   9   \n",
       "last_performance_ratings           B                   C   \n",
       "left_                              1                   0   \n",
       "_c10                            None                None   \n",
       "salary                         56724               46671   \n",
       "title_id                       s0001               e0001   \n",
       "title                          Staff  Assistant Engineer   \n",
       "dept_name                 \"Research\"       \"development\"   \n",
       "\n",
       "                                             8                     9  \n",
       "dept_no                                   d006                  d006  \n",
       "emp_no                                   10009                 10010  \n",
       "emp_title_id                             e0003                 e0002  \n",
       "birth_date                          1952-04-19            1963-06-01  \n",
       "first_name                              Sumant             Duangkaew  \n",
       "last_name                                 Peac              Piveteau  \n",
       "sex                                          F                     F  \n",
       "hire_date                           1985-02-18            1989-08-24  \n",
       "no_of_projects                               8                     4  \n",
       "last_performance_ratings                     B                     A  \n",
       "left_                                        0                     0  \n",
       "_c10                                      None                  None  \n",
       "salary                                   60929                 72488  \n",
       "title_id                                 e0003                 e0002  \n",
       "title                          Senior Engineer              Engineer  \n",
       "dept_name                 \"Quality Management\"  \"Quality Management\"  "
      ]
     },
     "execution_count": 232,
     "metadata": {},
     "output_type": "execute_result"
    }
   ],
   "source": [
    "df.toPandas().head(10).transpose()"
   ]
  },
  {
   "cell_type": "code",
   "execution_count": 233,
   "metadata": {},
   "outputs": [
    {
     "data": {
      "text/plain": [
       "331603"
      ]
     },
     "execution_count": 233,
     "metadata": {},
     "output_type": "execute_result"
    }
   ],
   "source": [
    "df.count()"
   ]
  },
  {
   "cell_type": "code",
   "execution_count": 234,
   "metadata": {},
   "outputs": [
    {
     "data": {
      "text/plain": [
       "['dept_no',\n",
       " 'emp_no',\n",
       " 'emp_title_id',\n",
       " 'birth_date',\n",
       " 'first_name',\n",
       " 'last_name',\n",
       " 'sex',\n",
       " 'hire_date',\n",
       " 'no_of_projects',\n",
       " 'last_performance_ratings',\n",
       " 'left_',\n",
       " '_c10',\n",
       " 'salary',\n",
       " 'title_id',\n",
       " 'title',\n",
       " 'dept_name']"
      ]
     },
     "execution_count": 234,
     "metadata": {},
     "output_type": "execute_result"
    }
   ],
   "source": [
    "df.columns"
   ]
  },
  {
   "cell_type": "code",
   "execution_count": 235,
   "metadata": {
    "scrolled": true
   },
   "outputs": [
    {
     "name": "stdout",
     "output_type": "stream",
     "text": [
      "root\n",
      " |-- dept_no: string (nullable = true)\n",
      " |-- emp_no: integer (nullable = true)\n",
      " |-- emp_title_id: string (nullable = true)\n",
      " |-- birth_date: date (nullable = true)\n",
      " |-- first_name: string (nullable = true)\n",
      " |-- last_name: string (nullable = true)\n",
      " |-- sex: string (nullable = true)\n",
      " |-- hire_date: date (nullable = true)\n",
      " |-- no_of_projects: integer (nullable = true)\n",
      " |-- last_performance_ratings: string (nullable = true)\n",
      " |-- left_: integer (nullable = true)\n",
      " |-- _c10: date (nullable = true)\n",
      " |-- salary: long (nullable = true)\n",
      " |-- title_id: string (nullable = true)\n",
      " |-- title: string (nullable = true)\n",
      " |-- dept_name: string (nullable = true)\n",
      "\n"
     ]
    }
   ],
   "source": [
    "df.printSchema()"
   ]
  },
  {
   "cell_type": "code",
   "execution_count": 236,
   "metadata": {},
   "outputs": [
    {
     "name": "stdout",
     "output_type": "stream",
     "text": [
      "+-----+------+\n",
      "|left_| count|\n",
      "+-----+------+\n",
      "|    1| 33021|\n",
      "|    0|298582|\n",
      "+-----+------+\n",
      "\n"
     ]
    }
   ],
   "source": [
    "df.groupBy('left_').count().show()"
   ]
  },
  {
   "cell_type": "code",
   "execution_count": 242,
   "metadata": {},
   "outputs": [],
   "source": []
  },
  {
   "cell_type": "code",
   "execution_count": 246,
   "metadata": {},
   "outputs": [],
   "source": [
    "Sal = salaries.toPandas()"
   ]
  },
  {
   "cell_type": "code",
   "execution_count": 247,
   "metadata": {},
   "outputs": [
    {
     "data": {
      "image/png": "[encoded data removed]",
      "text/plain": [
       "<Figure size 720x504 with 1 Axes>"
      ]
     },
     "metadata": {},
     "output_type": "display_data"
    }
   ],
   "source": [
    "plt.rcParams['figure.figsize']=(10,7)\n",
    "plt.hist(Sal['salary'],bins=9,color='xkcd:magenta',alpha=1,edgecolor='black')\n",
    "plt.title('Salary Ranges',fontsize=20,pad=40)\n",
    "plt.xlabel('Salaries',fontsize=16,color='black',labelpad=20)\n",
    "plt.ylabel('Frequency Count',fontsize=16,color='black',labelpad=20)\n",
    "plt.xlim(36000,130000)\n",
    "plt.xticks(fontsize=12)\n",
    "plt.yticks(fontsize=12)\n",
    "plt.show()\n",
    "\n",
    "# Show plot\n",
    "plt.show()"
   ]
  },
  {
   "cell_type": "code",
   "execution_count": 248,
   "metadata": {},
   "outputs": [],
   "source": [
    "Avg_Salary = Spark.sql(\"\"\"\n",
    "SELECT\n",
    "    t.title,\n",
    "    avg(s.salary) as Avg_Salary\n",
    "FROM capstone_hadoop_rk.employees e\n",
    "JOIN capstone_hadoop_rk.titles t\n",
    "ON t.title_id = e.emp_title_id\n",
    "JOIN capstone_hadoop_rk.salaries s\n",
    "ON s.emp_no = e.emp_no\n",
    "GROUP BY t.title\n",
    "\"\"\")"
   ]
  },
  {
   "cell_type": "code",
   "execution_count": 249,
   "metadata": {},
   "outputs": [],
   "source": [
    "Avg_Salary = Avg_Salary.toPandas()"
   ]
  },
  {
   "cell_type": "code",
   "execution_count": 250,
   "metadata": {},
   "outputs": [
    {
     "data": {
      "image/png": "[encoded data removed]",
      "text/plain": [
       "<Figure size 720x504 with 1 Axes>"
      ]
     },
     "metadata": {},
     "output_type": "display_data"
    }
   ],
   "source": [
    "plt.rcParams['figure.figsize']=(10,7)\n",
    "\n",
    "plt.bar(Avg_Salary['title'], Avg_Salary['Avg_Salary'])\n",
    "plt.xlabel(\"Title\")\n",
    "plt.ylabel(\"Average Salary\")\n",
    "plt.title(\"Average Salary per Title\")\n",
    "plt.show()"
   ]
  },
  {
   "cell_type": "code",
   "execution_count": 257,
   "metadata": {},
   "outputs": [],
   "source": [
    "Left = Spark.sql(\"\"\"\n",
    "SELECT\n",
    "    left1,\n",
    "    count(left1) as Employee_left\n",
    "FROM capstone_hadoop_rk.employees\n",
    "GROUP BY left1\n",
    "\"\"\")"
   ]
  },
  {
   "cell_type": "code",
   "execution_count": 258,
   "metadata": {},
   "outputs": [
    {
     "name": "stdout",
     "output_type": "stream",
     "text": [
      "+-----+-------------+\n",
      "|left1|Employee_left|\n",
      "+-----+-------------+\n",
      "| true|        29867|\n",
      "|false|       270157|\n",
      "+-----+-------------+\n",
      "\n"
     ]
    }
   ],
   "source": [
    "Left.show()"
   ]
  },
  {
   "cell_type": "code",
   "execution_count": 259,
   "metadata": {},
   "outputs": [
    {
     "data": {
      "text/html": [
       "<div>\n",
       "<style scoped>\n",
       "    .dataframe tbody tr th:only-of-type {\n",
       "        vertical-align: middle;\n",
       "    }\n",
       "\n",
       "    .dataframe tbody tr th {\n",
       "        vertical-align: top;\n",
       "    }\n",
       "\n",
       "    .dataframe thead th {\n",
       "        text-align: right;\n",
       "    }\n",
       "</style>\n",
       "<table border=\"1\" class=\"dataframe\">\n",
       "  <thead>\n",
       "    <tr style=\"text-align: right;\">\n",
       "      <th></th>\n",
       "      <th>left1</th>\n",
       "      <th>Employee_left</th>\n",
       "    </tr>\n",
       "  </thead>\n",
       "  <tbody>\n",
       "    <tr>\n",
       "      <th>0</th>\n",
       "      <td>True</td>\n",
       "      <td>29867</td>\n",
       "    </tr>\n",
       "    <tr>\n",
       "      <th>1</th>\n",
       "      <td>False</td>\n",
       "      <td>270157</td>\n",
       "    </tr>\n",
       "  </tbody>\n",
       "</table>\n",
       "</div>"
      ],
      "text/plain": [
       "   left1  Employee_left\n",
       "0   True          29867\n",
       "1  False         270157"
      ]
     },
     "execution_count": 259,
     "metadata": {},
     "output_type": "execute_result"
    }
   ],
   "source": [
    "Left.toPandas()"
   ]
  },
  {
   "cell_type": "code",
   "execution_count": 264,
   "metadata": {},
   "outputs": [
    {
     "data": {
      "text/plain": [
       "['left1', 'Employee_left']"
      ]
     },
     "execution_count": 264,
     "metadata": {},
     "output_type": "execute_result"
    }
   ],
   "source": [
    "Left.withColumn('left1', Left['left1'])"
   ]
  },
  {
   "cell_type": "code",
   "execution_count": null,
   "metadata": {},
   "outputs": [],
   "source": []
  },
  {
   "cell_type": "markdown",
   "metadata": {},
   "source": [
    "# Model Building"
   ]
  },
  {
   "cell_type": "code",
   "execution_count": 237,
   "metadata": {},
   "outputs": [],
   "source": [
    "#Keep a copy of the original dataframe for later use\n",
    "df1 = df"
   ]
  },
  {
   "cell_type": "code",
   "execution_count": 238,
   "metadata": {},
   "outputs": [],
   "source": [
    "#Columns that will be used as features and their types\n",
    "continuous_features = ['no_of_projects','salary']\n",
    "\n",
    "categorical_features = ['last_performance_ratings', 'dept_name', 'left_',\n",
    "                      'title']"
   ]
  },
  {
   "cell_type": "code",
   "execution_count": 202,
   "metadata": {},
   "outputs": [],
   "source": [
    "#Encoding all categorical features\n",
    "from pyspark.ml.feature import OneHotEncoder, StringIndexer, VectorAssembler, PolynomialExpansion, VectorIndexer"
   ]
  },
  {
   "cell_type": "code",
   "execution_count": 203,
   "metadata": {},
   "outputs": [],
   "source": [
    "def create_category_vars( dataset, field_name ):\n",
    "    idx_col = field_name + \"Index\"\n",
    "    col_vec = field_name + \"Vec\"\n",
    "\n",
    "    stringIndexer = StringIndexer( inputCol=field_name, outputCol=idx_col )\n",
    "\n",
    "    model = stringIndexer.fit( dataset )\n",
    "    indexed = model.transform( dataset )\n",
    "\n",
    "    encoder = OneHotEncoder( dropLast=True,inputCol=idx_col,outputCol= col_vec )\n",
    "\n",
    "    return encoder.transform( indexed )"
   ]
  },
  {
   "cell_type": "code",
   "execution_count": 239,
   "metadata": {},
   "outputs": [],
   "source": [
    "for col in categorical_features:\n",
    "    df1 = create_category_vars(df1, col)\n",
    "    df1.cache()"
   ]
  },
  {
   "cell_type": "code",
   "execution_count": 205,
   "metadata": {},
   "outputs": [
    {
     "data": {
      "text/plain": [
       "['dept_no',\n",
       " 'emp_no',\n",
       " 'emp_title_id',\n",
       " 'birth_date',\n",
       " 'first_name',\n",
       " 'last_name',\n",
       " 'sex',\n",
       " 'hire_date',\n",
       " 'no_of_projects',\n",
       " 'last_performance_ratings',\n",
       " 'left_',\n",
       " '_c10',\n",
       " 'salary',\n",
       " 'title_id',\n",
       " 'title',\n",
       " 'dept_name',\n",
       " 'last_performance_ratingsIndex',\n",
       " 'last_performance_ratingsVec',\n",
       " 'dept_nameIndex',\n",
       " 'dept_nameVec',\n",
       " 'left_Index',\n",
       " 'left_Vec',\n",
       " 'titleIndex',\n",
       " 'titleVec']"
      ]
     },
     "execution_count": 205,
     "metadata": {},
     "output_type": "execute_result"
    }
   ],
   "source": [
    "df1.columns"
   ]
  },
  {
   "cell_type": "code",
   "execution_count": 206,
   "metadata": {},
   "outputs": [
    {
     "name": "stdout",
     "output_type": "stream",
     "text": [
      "+-------+------+------------+----------+----------+---------+---+----------+--------------+------------------------+-----+----+------+--------+---------------+-----------------+-----------------------------+---------------------------+--------------+-------------+----------+-------------+----------+-------------+\n",
      "|dept_no|emp_no|emp_title_id|birth_date|first_name|last_name|sex| hire_date|no_of_projects|last_performance_ratings|left_|_c10|salary|title_id|          title|        dept_name|last_performance_ratingsIndex|last_performance_ratingsVec|dept_nameIndex| dept_nameVec|left_Index|     left_Vec|titleIndex|     titleVec|\n",
      "+-------+------+------------+----------+----------+---------+---+----------+--------------+------------------------+-----+----+------+--------+---------------+-----------------+-----------------------------+---------------------------+--------------+-------------+----------+-------------+----------+-------------+\n",
      "|   d005| 10001|       e0003|1953-09-02|    Georgi|  Facello|  M|1986-06-26|             9|                       C|    1|null| 60117|   e0003|Senior Engineer|    \"development\"|                          2.0|              (4,[2],[1.0])|           0.0|(8,[0],[1.0])|       1.0|    (1,[],[])|       1.0|(6,[1],[1.0])|\n",
      "|   d007| 10002|       s0001|1964-06-02|   Bezalel|   Simmel|  F|1985-11-21|             8|                       B|    0|null| 65828|   s0001|          Staff|          \"Sales\"|                          0.0|              (4,[0],[1.0])|           2.0|(8,[2],[1.0])|       0.0|(1,[0],[1.0])|       0.0|(6,[0],[1.0])|\n",
      "|   d004| 10003|       e0003|1959-12-03|     Parto|  Bamford|  M|1986-08-28|             1|                       C|    0|null| 40006|   e0003|Senior Engineer|     \"Production\"|                          2.0|              (4,[2],[1.0])|           1.0|(8,[1],[1.0])|       0.0|(1,[0],[1.0])|       1.0|(6,[1],[1.0])|\n",
      "|   d004| 10004|       e0003|1954-05-01| Chirstian|  Koblick|  M|1986-12-01|             5|                       A|    0|null| 40054|   e0003|Senior Engineer|     \"Production\"|                          1.0|              (4,[1],[1.0])|           1.0|(8,[1],[1.0])|       0.0|(1,[0],[1.0])|       1.0|(6,[1],[1.0])|\n",
      "|   d003| 10005|       s0001|1955-01-21|   Kyoichi| Maliniak|  M|1989-09-12|             6|                       A|    0|null| 78228|   s0001|          Staff|\"Human Resources\"|                          1.0|              (4,[1],[1.0])|           7.0|(8,[7],[1.0])|       0.0|(1,[0],[1.0])|       0.0|(6,[0],[1.0])|\n",
      "+-------+------+------------+----------+----------+---------+---+----------+--------------+------------------------+-----+----+------+--------+---------------+-----------------+-----------------------------+---------------------------+--------------+-------------+----------+-------------+----------+-------------+\n",
      "only showing top 5 rows\n",
      "\n"
     ]
    }
   ],
   "source": [
    "df1.show(5)"
   ]
  },
  {
   "cell_type": "code",
   "execution_count": 207,
   "metadata": {},
   "outputs": [],
   "source": [
    "categorical_vecs = [ \"\".join( (cat, \"Vec\") ) for cat in categorical_features ]"
   ]
  },
  {
   "cell_type": "code",
   "execution_count": 208,
   "metadata": {},
   "outputs": [
    {
     "data": {
      "text/plain": [
       "['last_performance_ratingsVec', 'dept_nameVec', 'left_Vec', 'titleVec']"
      ]
     },
     "execution_count": 208,
     "metadata": {},
     "output_type": "execute_result"
    }
   ],
   "source": [
    "categorical_vecs"
   ]
  },
  {
   "cell_type": "code",
   "execution_count": 209,
   "metadata": {},
   "outputs": [],
   "source": [
    "#Including all features for model building\n",
    "\n",
    "all_features= continuous_features + categorical_vecs"
   ]
  },
  {
   "cell_type": "code",
   "execution_count": 210,
   "metadata": {},
   "outputs": [
    {
     "data": {
      "text/plain": [
       "['no_of_projects',\n",
       " 'salary',\n",
       " 'last_performance_ratingsVec',\n",
       " 'dept_nameVec',\n",
       " 'left_Vec',\n",
       " 'titleVec']"
      ]
     },
     "execution_count": 210,
     "metadata": {},
     "output_type": "execute_result"
    }
   ],
   "source": [
    "all_features"
   ]
  },
  {
   "cell_type": "code",
   "execution_count": 211,
   "metadata": {},
   "outputs": [],
   "source": [
    "# Creating the vector of all predictors\n",
    "assembler = VectorAssembler( inputCols = all_features, outputCol = \"features\")"
   ]
  },
  {
   "cell_type": "code",
   "execution_count": 212,
   "metadata": {},
   "outputs": [
    {
     "data": {
      "text/plain": [
       "['dept_no',\n",
       " 'emp_no',\n",
       " 'emp_title_id',\n",
       " 'birth_date',\n",
       " 'first_name',\n",
       " 'last_name',\n",
       " 'sex',\n",
       " 'hire_date',\n",
       " 'no_of_projects',\n",
       " 'last_performance_ratings',\n",
       " 'left_',\n",
       " '_c10',\n",
       " 'salary',\n",
       " 'title_id',\n",
       " 'title',\n",
       " 'dept_name',\n",
       " 'last_performance_ratingsIndex',\n",
       " 'last_performance_ratingsVec',\n",
       " 'dept_nameIndex',\n",
       " 'dept_nameVec',\n",
       " 'left_Index',\n",
       " 'left_Vec',\n",
       " 'titleIndex',\n",
       " 'titleVec']"
      ]
     },
     "execution_count": 212,
     "metadata": {},
     "output_type": "execute_result"
    }
   ],
   "source": [
    "df1.columns"
   ]
  },
  {
   "cell_type": "code",
   "execution_count": 213,
   "metadata": {},
   "outputs": [],
   "source": [
    "df1 = assembler.transform(df1)"
   ]
  },
  {
   "cell_type": "code",
   "execution_count": 214,
   "metadata": {},
   "outputs": [],
   "source": [
    "# Setting the target variables - left\n",
    "df1 = df1.withColumn( \"label\", df1.left_.cast( 'double' ) )"
   ]
  },
  {
   "cell_type": "code",
   "execution_count": 215,
   "metadata": {},
   "outputs": [
    {
     "name": "stdout",
     "output_type": "stream",
     "text": [
      "+--------------------+-----+\n",
      "|            features|label|\n",
      "+--------------------+-----+\n",
      "|(21,[0,1,4,6,16],...|    1|\n",
      "|(21,[0,1,2,8,14,1...|    0|\n",
      "|(21,[0,1,4,7,14,1...|    0|\n",
      "|(21,[0,1,3,7,14,1...|    0|\n",
      "|(21,[0,1,3,13,14,...|    0|\n",
      "+--------------------+-----+\n",
      "only showing top 5 rows\n",
      "\n"
     ]
    }
   ],
   "source": [
    "df1.select( \"features\", \"label\" ).show( 5 )"
   ]
  },
  {
   "cell_type": "code",
   "execution_count": 216,
   "metadata": {},
   "outputs": [],
   "source": [
    "#Split the dataset\n",
    "train_df, test_df = df1.randomSplit( [0.7, 0.3], seed = 42 )"
   ]
  },
  {
   "cell_type": "code",
   "execution_count": 217,
   "metadata": {},
   "outputs": [],
   "source": [
    "#Train Linear Regression Model\n",
    "from pyspark.ml.regression import LinearRegression"
   ]
  },
  {
   "cell_type": "code",
   "execution_count": 218,
   "metadata": {},
   "outputs": [],
   "source": [
    "linreg = LinearRegression(maxIter=500, regParam=0.0)\n",
    "lm = linreg.fit( train_df )"
   ]
  },
  {
   "cell_type": "code",
   "execution_count": 219,
   "metadata": {},
   "outputs": [
    {
     "data": {
      "text/plain": [
       "0.999999999996648"
      ]
     },
     "execution_count": 219,
     "metadata": {},
     "output_type": "execute_result"
    }
   ],
   "source": [
    "# Intercept and coefficients\n",
    "lm.intercept"
   ]
  },
  {
   "cell_type": "code",
   "execution_count": 220,
   "metadata": {},
   "outputs": [
    {
     "data": {
      "text/plain": [
       "DenseVector([-0.0, 0.0, 0.0, 0.0, 0.0, 0.0, 0.0, 0.0, 0.0, 0.0, 0.0, 0.0, 0.0, 0.0, -1.0, 0.0, 0.0, 0.0, 0.0, 0.0, 0.0])"
      ]
     },
     "execution_count": 220,
     "metadata": {},
     "output_type": "execute_result"
    }
   ],
   "source": [
    "lm.coefficients"
   ]
  },
  {
   "cell_type": "code",
   "execution_count": 221,
   "metadata": {},
   "outputs": [
    {
     "name": "stdout",
     "output_type": "stream",
     "text": [
      "+--------------------+-----+--------------------+\n",
      "|            features|label|          prediction|\n",
      "+--------------------+-----+--------------------+\n",
      "|(21,[0,1,3,11,14,...|    0|2.55351295663786E-15|\n",
      "|(21,[0,1,3,11,14,...|    0|5.551115123125783...|\n",
      "|(21,[0,1,3,11,14,...|    0|-3.33066907387546...|\n",
      "|(21,[0,1,4,11,14,...|    0|-7.77156117237609...|\n",
      "|(21,[0,1,3,11,14,...|    0|1.554312234475219...|\n",
      "+--------------------+-----+--------------------+\n",
      "only showing top 5 rows\n",
      "\n"
     ]
    }
   ],
   "source": [
    "#Making predictions on test data\n",
    "y_pred  =  lm.transform( test_df )\n",
    "y_pred.select( 'features', 'label', 'prediction' ).show( 5 )"
   ]
  },
  {
   "cell_type": "code",
   "execution_count": 222,
   "metadata": {},
   "outputs": [],
   "source": [
    "# Metrics to check the accuracy of model (goodness of fit)\n",
    "#Calculating RMSE and R-Squared\n",
    "from pyspark.ml.evaluation import RegressionEvaluator"
   ]
  },
  {
   "cell_type": "code",
   "execution_count": 223,
   "metadata": {},
   "outputs": [],
   "source": [
    "rmse_evaluator = RegressionEvaluator(labelCol=\"label\",\n",
    "                            predictionCol=\"prediction\",\n",
    "                            metricName=\"rmse\" )"
   ]
  },
  {
   "cell_type": "code",
   "execution_count": 224,
   "metadata": {},
   "outputs": [
    {
     "data": {
      "text/plain": [
       "3.6823181095949104e-14"
      ]
     },
     "execution_count": 224,
     "metadata": {},
     "output_type": "execute_result"
    }
   ],
   "source": [
    "lm_rmse = rmse_evaluator.evaluate( y_pred )\n",
    "lm_rmse"
   ]
  },
  {
   "cell_type": "code",
   "execution_count": 225,
   "metadata": {},
   "outputs": [
    {
     "data": {
      "text/plain": [
       "1.0"
      ]
     },
     "execution_count": 225,
     "metadata": {},
     "output_type": "execute_result"
    }
   ],
   "source": [
    "r2_evaluator = RegressionEvaluator(labelCol=\"label\",\n",
    "                            predictionCol=\"prediction\",\n",
    "                            metricName=\"r2\" )\n",
    "lm_r2 = r2_evaluator.evaluate( y_pred )\n",
    "lm_r2"
   ]
  },
  {
   "cell_type": "code",
   "execution_count": null,
   "metadata": {},
   "outputs": [],
   "source": [
    "lm.save('LinearRegression.model')"
   ]
  },
  {
   "cell_type": "code",
   "execution_count": null,
   "metadata": {},
   "outputs": [],
   "source": []
  },
  {
   "cell_type": "markdown",
   "metadata": {},
   "source": [
    "# Creating Pipeline"
   ]
  },
  {
   "cell_type": "code",
   "execution_count": 325,
   "metadata": {},
   "outputs": [
    {
     "data": {
      "text/plain": [
       "['no_of_projects', 'salary']"
      ]
     },
     "execution_count": 325,
     "metadata": {},
     "output_type": "execute_result"
    }
   ],
   "source": [
    "continuous_features"
   ]
  },
  {
   "cell_type": "code",
   "execution_count": 326,
   "metadata": {},
   "outputs": [
    {
     "data": {
      "text/plain": [
       "['last_performance_ratings', 'dept_name', 'left_', 'title']"
      ]
     },
     "execution_count": 326,
     "metadata": {},
     "output_type": "execute_result"
    }
   ],
   "source": [
    "categorical_features"
   ]
  },
  {
   "cell_type": "code",
   "execution_count": 334,
   "metadata": {},
   "outputs": [],
   "source": [
    "from pyspark.ml.feature import StringIndexer, OneHotEncoder, VectorAssembler\n",
    "from pyspark.ml import Pipeline\n",
    "from pyspark.ml.regression import LinearRegression\n",
    "\n",
    "## Create indexers for the categorical features\n",
    "indexers = [StringIndexer(inputCol=c, outputCol=\"{}_idx\".format(c)) for c in categorical_features]\n",
    "\n",
    "## encode the categorical features\n",
    "encoders = [ OneHotEncoder(\n",
    "      inputCol=idx.getOutputCol(),\n",
    "      outputCol=\"{0}_enc\".format(idx.getOutputCol())) for idx in indexers]\n",
    "\n",
    "## Create vectors for all features categorical and continuous\n",
    "\n",
    "assembler = VectorAssembler(\n",
    "  inputCols=[enc.getOutputCol() for enc in encoders] + continuous_features,\n",
    "  outputCol=\"features\")\n",
    "\n",
    "## Initialize the linear model\n",
    "lrModel = LinearRegression( maxIter = 10 )\n",
    "\n",
    "\n",
    "## Create the pipeline with sequence of activities\n",
    "#pipeline = Pipeline( stages=indexers + encoders + [assembler, lrModel ])\n",
    "\n",
    "pipeline = Pipeline( stages= [indexers, encoders, assembler, lrModel ])"
   ]
  },
  {
   "cell_type": "code",
   "execution_count": null,
   "metadata": {},
   "outputs": [],
   "source": [
    "df1 = df.withColumn('label', df.left_.cast('double'))"
   ]
  },
  {
   "cell_type": "code",
   "execution_count": null,
   "metadata": {},
   "outputs": [],
   "source": [
    "training, testing = housing_pipeline_df.randomSplit( [0.7, 0.3], seed = 42 )"
   ]
  },
  {
   "cell_type": "code",
   "execution_count": null,
   "metadata": {},
   "outputs": [],
   "source": [
    "model = pipeline.fit( training )"
   ]
  },
  {
   "cell_type": "code",
   "execution_count": null,
   "metadata": {},
   "outputs": [],
   "source": [
    "y_pred_train = model.transform(training)"
   ]
  },
  {
   "cell_type": "code",
   "execution_count": null,
   "metadata": {},
   "outputs": [],
   "source": [
    "model.save(\"linear_regression.model\")"
   ]
  },
  {
   "cell_type": "code",
   "execution_count": null,
   "metadata": {},
   "outputs": [],
   "source": []
  }
 ],
 "metadata": {
  "kernelspec": {
   "display_name": "Python 3",
   "language": "python",
   "name": "python3"
  },
  "language_info": {
   "codemirror_mode": {
    "name": "ipython",
    "version": 3
   },
   "file_extension": ".py",
   "mimetype": "text/x-python",
   "name": "python",
   "nbconvert_exporter": "python",
   "pygments_lexer": "ipython3",
   "version": "3.7.6"
  }
 },
 "nbformat": 4,
 "nbformat_minor": 4
}
